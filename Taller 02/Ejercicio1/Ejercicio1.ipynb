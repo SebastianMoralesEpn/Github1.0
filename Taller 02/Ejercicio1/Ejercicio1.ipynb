{
 "cells": [
  {
   "cell_type": "markdown",
   "id": "fc718879",
   "metadata": {},
   "source": [
    "# **Escuela Politecnica Nacional**\n",
    "\n",
    "# **Taller 02**\n",
    "\n",
    "## **Nombres:** Sebastián Morales, Moisés Pineda"
   ]
  },
  {
   "cell_type": "code",
   "execution_count": 2,
   "id": "4bd0a2f0",
   "metadata": {},
   "outputs": [
    {
     "name": "stdout",
     "output_type": "stream",
     "text": [
      "Raíces encontradas: [-151.99999999996197, -152.00000000000026, -152.0000000000245, -126.00000264456945, -125.9999766020633, -126.0000168012077]\n"
     ]
    }
   ],
   "source": [
    "import numpy as np\n",
    "import scipy.optimize as opt\n",
    "\n",
    "# Definir el polinomio y su derivada\n",
    "def f(x):\n",
    "    return x**4 + 540*x**3 + 109124*x**2 + 9781632*x + 328188672\n",
    "\n",
    "def df(x):\n",
    "    return 4*x**3 + 3*540*x**2 + 2*109124*x + 9781632\n",
    "\n",
    "# Aproximaciones iniciales para la búsqueda de raíces\n",
    "x0_values = [-600, -400, -200, 0, 200, 400]\n",
    "\n",
    "# Encontrar raíces con el método de Newton\n",
    "roots = [opt.newton(f, x0, fprime=df) for x0 in x0_values]\n",
    "\n",
    "print(f\"Raíces encontradas: {roots}\")\n"
   ]
  },
  {
   "cell_type": "code",
   "execution_count": null,
   "id": "3f57d7bf",
   "metadata": {},
   "outputs": [],
   "source": []
  }
 ],
 "metadata": {
  "kernelspec": {
   "display_name": "base",
   "language": "python",
   "name": "python3"
  },
  "language_info": {
   "codemirror_mode": {
    "name": "ipython",
    "version": 3
   },
   "file_extension": ".py",
   "mimetype": "text/x-python",
   "name": "python",
   "nbconvert_exporter": "python",
   "pygments_lexer": "ipython3",
   "version": "3.11.7"
  }
 },
 "nbformat": 4,
 "nbformat_minor": 5
}
