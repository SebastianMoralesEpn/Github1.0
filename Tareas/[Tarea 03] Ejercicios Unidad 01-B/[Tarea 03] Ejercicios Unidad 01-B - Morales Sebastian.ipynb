{
 "cells": [
  {
   "cell_type": "markdown",
   "id": "726bcec2",
   "metadata": {},
   "source": [
    "# **Escuela Politécnica Nacional**\n",
    "## **[Tarea 03] Ejercicios Unidad 01-B**\n",
    "### **Nombre:** Sebastián Morales\n",
    "### **Fecha:** 12/05/2025\n",
    "### **Curso:** GR1CC "
   ]
  },
  {
   "cell_type": "markdown",
   "id": "080d7960",
   "metadata": {},
   "source": [
    "### **Repositorio:**\n",
    "\n"
   ]
  },
  {
   "cell_type": "markdown",
   "id": "5cc7ebcf",
   "metadata": {},
   "source": [
    "**CONJUNTO DE EJERCICIOS 1.3**"
   ]
  },
  {
   "cell_type": "markdown",
   "id": "2780781a",
   "metadata": {},
   "source": [
    "**1. Utilice aritmética de corte de tres dígitos para calcular las siguientes sumas. Para cada parte, ¿Qué método es más preciso y por qué?**"
   ]
  },
  {
   "attachments": {
    "1a.png": {
     "image/png": "[encoded data removed]"
    }
   },
   "cell_type": "markdown",
   "id": "dcc4f7ee",
   "metadata": {},
   "source": [
    "![1a.png](attachment:1a.png)"
   ]
  },
  {
   "cell_type": "code",
   "execution_count": 8,
   "id": "47acd6c0",
   "metadata": {},
   "outputs": [
    {
     "name": "stdout",
     "output_type": "stream",
     "text": [
      "Suma ascendente:\n",
      "Término truncado: 1.000, Suma parcial truncada: 1.000\n",
      "Término truncado: 0.250, Suma parcial truncada: 1.250\n",
      "Término truncado: 0.111, Suma parcial truncada: 1.361\n",
      "Término truncado: 0.062, Suma parcial truncada: 1.423\n",
      "Término truncado: 0.040, Suma parcial truncada: 1.463\n",
      "Término truncado: 0.027, Suma parcial truncada: 1.490\n",
      "Término truncado: 0.020, Suma parcial truncada: 1.510\n",
      "Término truncado: 0.015, Suma parcial truncada: 1.525\n",
      "Término truncado: 0.012, Suma parcial truncada: 1.537\n",
      "Término truncado: 0.010, Suma parcial truncada: 1.547\n",
      "Resultado de la suma ascendente con truncamiento: 1.547\n",
      "\n",
      "Suma descendente:\n",
      "Término truncado: 0.010, Suma parcial truncada: 0.010\n",
      "Término truncado: 0.012, Suma parcial truncada: 0.022\n",
      "Término truncado: 0.015, Suma parcial truncada: 0.037\n",
      "Término truncado: 0.020, Suma parcial truncada: 0.056\n",
      "Término truncado: 0.027, Suma parcial truncada: 0.083\n",
      "Término truncado: 0.040, Suma parcial truncada: 0.123\n",
      "Término truncado: 0.062, Suma parcial truncada: 0.185\n",
      "Término truncado: 0.111, Suma parcial truncada: 0.296\n",
      "Término truncado: 0.250, Suma parcial truncada: 0.546\n",
      "Término truncado: 1.000, Suma parcial truncada: 1.546\n",
      "Resultado de la suma descendente con truncamiento: 1.546\n",
      "\n",
      "Suma con mayor precisión para comparación: 1.549768\n",
      "Error absoluto de la suma ascedente: 0.002768\n",
      "Error absoluto de la suma descendente: 0.003768\n",
      "\n",
      "La suma ascendente es más precisa con aritmética de corte de tres dígitos.\n"
     ]
    }
   ],
   "source": [
    "import math\n",
    "import decimal\n",
    "\n",
    "def truncar(numero, digitos):\n",
    "\n",
    "    factor = 10.0 ** digitos\n",
    "    return math.floor(numero * factor) / factor\n",
    "\n",
    "def suma_corte(terminos, digitos_corte=3):\n",
    "   \n",
    "    suma_acumulada = 0.0\n",
    "    pasos_intermedios = []\n",
    "    for termino in terminos:\n",
    "        termino_truncado = truncar(termino, digitos_corte)\n",
    "        suma_parcial_truncada = truncar(suma_acumulada + termino_truncado, digitos_corte)\n",
    "        pasos_intermedios.append((termino_truncado, suma_parcial_truncada))\n",
    "        suma_acumulada = suma_parcial_truncada\n",
    "    return suma_acumulada, pasos_intermedios\n",
    "\n",
    "# Calcular los términos de la serie\n",
    "terminos = [1.0 / (i**2) for i in range(1, 11)]\n",
    "\n",
    "# Método 1: Suma hacia adelante\n",
    "print(\"Suma ascendente:\")\n",
    "error_ascendente, pasos_a = suma_corte(terminos)\n",
    "for termino, suma_parcial in pasos_a:\n",
    "    print(f\"Término truncado: {termino:.3f}, Suma parcial truncada: {suma_parcial:.3f}\")\n",
    "print(f\"Resultado de la suma ascendente con truncamiento: {error_ascendente:.3f}\\n\")\n",
    "\n",
    "# Método 2: Suma hacia atrás\n",
    "print(\"Suma descendente:\")\n",
    "error_descendente, pasos_descendente = suma_corte(list(reversed(terminos)))\n",
    "for termino, suma_parcial in pasos_descendente:\n",
    "    print(f\"Término truncado: {termino:.3f}, Suma parcial truncada: {suma_parcial:.3f}\")\n",
    "print(f\"Resultado de la suma descendente con truncamiento: {error_descendente:.3f}\")\n",
    "\n",
    "# Determinar qué método es más preciso \n",
    "decimal.getcontext().prec = 10\n",
    "suma = sum(decimal.Decimal(1) / decimal.Decimal(i**2) for i in range(1, 11))\n",
    "\n",
    "print(f\"\\nSuma con mayor precisión para comparación: {float(suma):.6f}\")\n",
    "print(f\"Error absoluto de la suma ascedente: {abs(error_ascendente - float(suma)):.6f}\")\n",
    "print(f\"Error absoluto de la suma descendente: {abs(error_descendente - float(suma)):.6f}\")\n",
    "\n",
    "if abs(error_descendente - float(suma)) < abs(error_ascendente - float(suma)):\n",
    "    print(\"\\nLa suma descendente es más precisa con aritmética de corte de tres dígitos.\")\n",
    "else:\n",
    "    print(\"\\nLa suma ascendente es más precisa con aritmética de corte de tres dígitos.\")\n",
    "    "
   ]
  },
  {
   "attachments": {
    "1b.png": {
     "image/png": "[encoded data removed]"
    }
   },
   "cell_type": "markdown",
   "id": "2a2311e4",
   "metadata": {},
   "source": [
    "![1b.png](attachment:1b.png)"
   ]
  },
  {
   "cell_type": "code",
   "execution_count": null,
   "id": "8772bbb6",
   "metadata": {},
   "outputs": [
    {
     "name": "stdout",
     "output_type": "stream",
     "text": [
      "Literal b: Suma ascendente:\n",
      "Término truncado: 1.000, Suma parcial truncada: 1.000\n",
      "Término truncado: 0.125, Suma parcial truncada: 1.125\n",
      "Término truncado: 0.037, Suma parcial truncada: 1.162\n",
      "Término truncado: 0.015, Suma parcial truncada: 1.176\n",
      "Término truncado: 0.008, Suma parcial truncada: 1.184\n",
      "Término truncado: 0.004, Suma parcial truncada: 1.188\n",
      "Término truncado: 0.002, Suma parcial truncada: 1.190\n",
      "Término truncado: 0.001, Suma parcial truncada: 1.190\n",
      "Término truncado: 0.001, Suma parcial truncada: 1.190\n",
      "Término truncado: 0.001, Suma parcial truncada: 1.190\n",
      "Resultado de la suma ascendente con corte a 3 dígitos: 1.190\n",
      "\n",
      "Literal b: Suma descendente:\n",
      "Término truncado: 0.001, Suma parcial truncada: 0.001\n",
      "Término truncado: 0.001, Suma parcial truncada: 0.002\n",
      "Término truncado: 0.001, Suma parcial truncada: 0.003\n",
      "Término truncado: 0.002, Suma parcial truncada: 0.005\n",
      "Término truncado: 0.004, Suma parcial truncada: 0.009\n",
      "Término truncado: 0.008, Suma parcial truncada: 0.017\n",
      "Término truncado: 0.015, Suma parcial truncada: 0.032\n",
      "Término truncado: 0.037, Suma parcial truncada: 0.069\n",
      "Término truncado: 0.125, Suma parcial truncada: 0.194\n",
      "Término truncado: 1.000, Suma parcial truncada: 1.194\n",
      "Resultado de la suma descendente con corte a 3 dígitos: 1.194\n",
      "\n",
      "Suma con mayor precisión para comparación: 1.197532\n",
      "Error absoluto de la suma ascendente: 0.007532\n",
      "Error absoluto de la suma descendente: 0.003532\n",
      "\n",
      "Para el literal b, la suma descendente es más precisa con aritmética de corte de tres dígitos.\n"
     ]
    }
   ],
   "source": [
    "# Calcular los términos de la serie para el literal b\n",
    "terminos_b = [1.0 / (i**3) for i in range(1, 11)]\n",
    "\n",
    "# Método 1: Suma hacia adelante para el literal b\n",
    "print(\"Literal b: Suma ascendente:\")\n",
    "resultado_ascendente_b, pasos_b = suma_corte(terminos_b)\n",
    "for termino, suma_parcial in pasos_b:\n",
    "    print(f\"Término truncado: {termino:.3f}, Suma parcial truncada: {suma_parcial:.3f}\")\n",
    "print(f\"Resultado de la suma ascendente con corte a 3 dígitos: {resultado_ascendente_b:.3f}\\n\")\n",
    "\n",
    "# Método 2: Suma descendete para el literal b\n",
    "print(\"Literal b: Suma descendente:\")\n",
    "resultado_descendente_b, pasos_b_descendente = suma_corte(list(reversed(terminos_b)))\n",
    "for termino, suma_parcial in pasos_b_descendente:\n",
    "    print(f\"Término truncado: {termino:.3f}, Suma parcial truncada: {suma_parcial:.3f}\")\n",
    "print(f\"Resultado de la suma descendente con corte a 3 dígitos: {resultado_descendente_b:.3f}\")\n",
    "\n",
    "# Determinar qué método es más preciso para el literal b \n",
    "decimal.getcontext().prec = 10\n",
    "suma_b = sum(decimal.Decimal(1) / decimal.Decimal(i**3) for i in range(1, 11))\n",
    "\n",
    "print(f\"\\nSuma con mayor precisión para comparación: {float(suma_b):.6f}\")\n",
    "error_b = abs(resultado_ascendente_b - float(suma_b))\n",
    "error_b_descendente = abs(resultado_descendente_b - float(suma_b))\n",
    "print(f\"Error absoluto de la suma ascendente: {error_b:.6f}\")\n",
    "print(f\"Error absoluto de la suma descendente: {error_b_descendente:.6f}\")\n",
    "\n",
    "if error_b_descendente < error_b:\n",
    "    print(\"\\nPara el literal b, la suma descendente es más precisa con aritmética de corte de tres dígitos.\")\n",
    "else:\n",
    "    print(\"\\nPara el literal b, la suma ascendente es más precisa con aritmética de corte de tres dígitos.\")"
   ]
  },
  {
   "cell_type": "markdown",
   "id": "923fa6e2",
   "metadata": {},
   "source": [
    "**2. La serie de Maclaurin para la función arcotangente converge para −1<𝑥≤1 y está dada por**"
   ]
  },
  {
   "attachments": {
    "2.png": {
     "image/png": "[encoded data removed]"
    }
   },
   "cell_type": "markdown",
   "id": "6a4429ae",
   "metadata": {},
   "source": [
    "![2.png](attachment:2.png)"
   ]
  },
  {
   "cell_type": "markdown",
   "id": "4f8dbbae",
   "metadata": {},
   "source": [
    "**a. Utilice el hecho de que tan 𝜋4⁄=1 para determinar el número n de términos de la serie que se necesita sumar para garantizar que**"
   ]
  },
  {
   "attachments": {
    "2a.png": {
     "image/png": "[encoded data removed]"
    }
   },
   "cell_type": "markdown",
   "id": "26c87f67",
   "metadata": {},
   "source": [
    "![2a.png](attachment:2a.png)"
   ]
  },
  {
   "cell_type": "code",
   "execution_count": 20,
   "id": "a9aea22c",
   "metadata": {},
   "outputs": [
    {
     "name": "stdout",
     "output_type": "stream",
     "text": [
      "Se necesitan 1000 términos para alcanzar |4P_n(1) - π| < 10^-3\n",
      "Valor aproximado de π: 3.140592653839794\n",
      "Error absoluto: 0.001000\n",
      "Valor real de π: 3.141593\n"
     ]
    }
   ],
   "source": [
    "def calculo_terminos_a():\n",
    "    \n",
    "    tolerancia = 1e-3\n",
    "    suma = 0.0\n",
    "    n = 1\n",
    "    \n",
    "    while True:\n",
    "        # Calcula el término n-ésimo de la serie\n",
    "        termino = (-1)**(n + 1) / (2 * n - 1)\n",
    "        suma += termino\n",
    "        pi_aproximado = 4 * suma\n",
    "        \n",
    "        # Calcula el error absoluto\n",
    "        error = abs(pi_aproximado - math.pi)\n",
    "        \n",
    "        # Verifica si se alcanzó la precisión deseada\n",
    "        if error < tolerancia:\n",
    "            print(f\"Se necesitan {n} términos para alcanzar |4P_n(1) - π| < 10^-3\")\n",
    "            print(f\"Valor aproximado de π: {pi_aproximado}\")\n",
    "            print(f\"Error absoluto: {error:.6f}\")\n",
    "            print(f\"Valor real de π: {math.pi:.6f}\")\n",
    "            return\n",
    "        n += 1\n",
    "calculo_terminos_a()"
   ]
  },
  {
   "cell_type": "markdown",
   "id": "22b18ac7",
   "metadata": {},
   "source": [
    "**b. El lenguaje de programación C++ requiere que el valor de 𝜋 se encuentre dentro de 10^−10. ¿Cuántos términos de la serie se necesitarían sumar para obtener este grado de precisión?**"
   ]
  },
  {
   "cell_type": "code",
   "execution_count": null,
   "id": "bc00847d",
   "metadata": {},
   "outputs": [
    {
     "name": "stdout",
     "output_type": "stream",
     "text": [
      "No se alcanzó la precisión deseada (1e-10) después de 10000000 términos.\n"
     ]
    }
   ],
   "source": [
    "def calcular_terminos_B(tolerancia=1e-10, max_terminos=10**7):\n",
    "\n",
    "    suma = 0.0\n",
    "    n = 1\n",
    "    while n <= max_terminos:\n",
    "        termino = (-1)**(n + 1) / (2 * n - 1)\n",
    "        suma += termino\n",
    "        pi_aproximado = 4 * suma\n",
    "        error = abs(pi_aproximado - math.pi)\n",
    "\n",
    "        if error < tolerancia:\n",
    "            print(f\"Se necesitan {n} términos para alcanzar |4P_n(1) - π| < {tolerancia}\")\n",
    "            print(f\"Valor aproximado de π: {pi_aproximado:.12f}\")\n",
    "            print(f\"Error absoluto: {error:.1e}\")\n",
    "            print(f\"Valor real de π: {math.pi:.12f}\")\n",
    "            return\n",
    "        n += 1\n",
    "    print(f\"No se alcanzó la precisión deseada ({tolerancia}) después de {max_terminos} términos.\")\n",
    "\n",
    "# Calcular el número de términos necesarios para una tolerancia de 1e-10\n",
    "calcular_terminos_B(tolerancia=1e-10)"
   ]
  },
  {
   "cell_type": "markdown",
   "id": "43ae9e10",
   "metadata": {},
   "source": [
    "**3. Otra fórmula para calcular 𝜋 se puede deducir a partir de la identidad**"
   ]
  },
  {
   "attachments": {
    "3.png": {
     "image/png": "[encoded data removed]"
    }
   },
   "cell_type": "markdown",
   "id": "9ee4b1c0",
   "metadata": {},
   "source": [
    "![3.png](attachment:3.png)"
   ]
  },
  {
   "cell_type": "markdown",
   "id": "45966578",
   "metadata": {},
   "source": [
    "**Determine el número de términos que se deben sumar para garantizar una aproximación 𝜋 dentro de 10^−3.**"
   ]
  },
  {
   "cell_type": "code",
   "execution_count": 3,
   "id": "d918e616",
   "metadata": {},
   "outputs": [
    {
     "name": "stdout",
     "output_type": "stream",
     "text": [
      "Número de términos requeridos: 2\n",
      "Valor de pi estimado: 3.1405970293260603\n",
      "Error absoluto: 0.0009956242637327861\n"
     ]
    }
   ],
   "source": [
    "# definir la función arctan que calcula el valor de arctan(x) usando la serie de Taylor\n",
    "def arctan(valor_x, cantidad_terminos):\n",
    "  \n",
    "  resultado = 0.0\n",
    "  for indice in range(cantidad_terminos):\n",
    "    numerador = ((-1) ** indice) * (valor_x ** (2 * indice + 1))\n",
    "    denominador = 2 * indice + 1\n",
    "    resultado += numerador / denominador\n",
    "  return resultado\n",
    "\n",
    "# Calcular el número de términos necesarios para aproximar pi con un error menor a 1e-3\n",
    "def aproximado_pi(margen_error):\n",
    "  \n",
    "  num_terminos = 1\n",
    "  pi_estimado = 4 * (4 * arctan(1/5, num_terminos) - arctan(1/239, num_terminos))\n",
    "  \n",
    "  while abs(pi_estimado - math.pi) > margen_error:\n",
    "    num_terminos += 1\n",
    "    pi_estimado = 4 * (4 * arctan(1/5, num_terminos) - arctan(1/239, num_terminos))\n",
    "\n",
    "  return num_terminos, pi_estimado\n",
    "\n",
    "# Se usa la variable error_max ya definida en el notebook\n",
    "n_terminos_necesarios, pi_calculado_nuevo = aproximado_pi(error_max)\n",
    "\n",
    "print(f\"Número de términos requeridos: {n_terminos_necesarios}\")\n",
    "print(f\"Valor de pi estimado: {pi_calculado_nuevo}\")\n",
    "print(f\"Error absoluto: {abs(pi_calculado_nuevo - math.pi)}\")"
   ]
  },
  {
   "cell_type": "markdown",
   "id": "0b1ae725",
   "metadata": {},
   "source": [
    "**4. Compare los siguientes tres algoritmos. ¿Cuándo es correcto el algoritmo de la parte 1a?**"
   ]
  },
  {
   "cell_type": "markdown",
   "id": "331926f3",
   "metadata": {},
   "source": [
    "**Algoritmo A**"
   ]
  },
  {
   "cell_type": "code",
   "execution_count": 4,
   "id": "782d8432",
   "metadata": {},
   "outputs": [],
   "source": [
    "def algoritmo_a(n, x):\n",
    "    producto = 0\n",
    "    for i in range(n):\n",
    "        producto *= x[i]\n",
    "    return producto"
   ]
  },
  {
   "cell_type": "markdown",
   "id": "5c068de3",
   "metadata": {},
   "source": [
    "**Algoritmo B**"
   ]
  },
  {
   "cell_type": "code",
   "execution_count": 5,
   "id": "0f27685c",
   "metadata": {},
   "outputs": [],
   "source": [
    "def algoritmo_b(n, x):\n",
    "    producto = 1\n",
    "    for i in range(n):\n",
    "        producto *= x[i]\n",
    "    return producto"
   ]
  },
  {
   "cell_type": "markdown",
   "id": "637cb3f3",
   "metadata": {},
   "source": [
    "**Algoritmo C**"
   ]
  },
  {
   "cell_type": "code",
   "execution_count": 6,
   "id": "0d3ceb74",
   "metadata": {},
   "outputs": [],
   "source": [
    "def algoritmo_c(n, x):\n",
    "    producto = 1\n",
    "    for i in range(n):\n",
    "        if x[i] == 0:\n",
    "            producto = 0\n",
    "            return producto  # Terminación temprana si se encuentra un 0\n",
    "        producto *= x[i]\n",
    "    return producto"
   ]
  },
  {
   "cell_type": "code",
   "execution_count": 14,
   "id": "738176a9",
   "metadata": {},
   "outputs": [],
   "source": [
    "# Casos de prueba\n",
    "casos_prueba = [\n",
    "    (3, [2, 3, 4]),      # Producto normal\n",
    "    (5, [-1, 2, -3, 4, -5]), # Números negativos\n",
    "    (2, [2.5, 4.0])     # Números de punto flotante\n",
    "]\n"
   ]
  },
  {
   "cell_type": "code",
   "execution_count": null,
   "id": "0d148030",
   "metadata": {},
   "outputs": [
    {
     "name": "stdout",
     "output_type": "stream",
     "text": [
      "Resultados de los algoritmos:\n",
      "\n",
      "Entrada: n=3, x=[2, 3, 4]\n",
      "  Algoritmo a: 0\n",
      "  Algoritmo b: 24\n",
      "  Algoritmo c: 24\n",
      "  Resultado Correcto: 24\n",
      "\n",
      "Entrada: n=5, x=[-1, 2, -3, 4, -5]\n",
      "  Algoritmo a: 0\n",
      "  Algoritmo b: -120\n",
      "  Algoritmo c: -120\n",
      "  Resultado Correcto: -120\n",
      "\n",
      "Entrada: n=2, x=[2.5, 4.0]\n",
      "  Algoritmo a: 0.0\n",
      "  Algoritmo b: 10.0\n",
      "  Algoritmo c: 10.0\n",
      "  Resultado Correcto: 10.0\n"
     ]
    }
   ],
   "source": [
    "print(\"Resultados de los algoritmos:\")\n",
    "for n, x in casos_prueba:\n",
    "    print(f\"\\nEntrada: n={n}, x={x}\")\n",
    "    resultado_a = algoritmo_a(n, list(x))\n",
    "    resultado_b = algoritmo_b(n, list(x))\n",
    "    resultado_c = algoritmo_c(n, list(x))\n",
    "    resultado_correcto = math.prod(x) if x else 1 # Producto correcto\n",
    "\n",
    "    print(f\"  Algoritmo a: {resultado_a}\")\n",
    "    print(f\"  Algoritmo b: {resultado_b}\")\n",
    "    print(f\"  Algoritmo c: {resultado_c}\")\n",
    "    print(f\"  Resultado Correcto: {resultado_correcto}\") "
   ]
  },
  {
   "cell_type": "markdown",
   "id": "caceba20",
   "metadata": {},
   "source": [
    "**5.a. ¿Cuántas multiplicaciones y sumas se requieren para determinar una suma de la forma**"
   ]
  },
  {
   "attachments": {
    "5a.png": {
     "image/png": "[encoded data removed]"
    }
   },
   "cell_type": "markdown",
   "id": "7fe3848b",
   "metadata": {},
   "source": [
    "![5a.png](attachment:5a.png)"
   ]
  },
  {
   "cell_type": "code",
   "execution_count": null,
   "id": "4e317319",
   "metadata": {},
   "outputs": [
    {
     "name": "stdout",
     "output_type": "stream",
     "text": [
      "Para un límite de 5:\n",
      "Cantidad total de multiplicaciones: 15\n",
      "Número total de sumas: 14\n"
     ]
    }
   ],
   "source": [
    "# definir la función que calcula el número de multiplicaciones y sumas\n",
    "def calcular_conteo(limite):\n",
    "    producto_total = 0\n",
    "    adiciones_totales = 0\n",
    "    indice_externo = 1\n",
    "    while indice_externo <= limite:\n",
    "        indice_interno = 1\n",
    "        while indice_interno <= indice_externo:\n",
    "            producto_total += 1\n",
    "            if indice_externo > 1 or indice_interno > 1:\n",
    "                adiciones_totales += 1\n",
    "            indice_interno += 1\n",
    "        indice_externo += 1\n",
    "    return producto_total, adiciones_totales\n",
    "\n",
    "# Ejemplo \n",
    "valor_n = 5\n",
    "productos, adiciones = calcular_conteo(valor_n)\n",
    "print(f\"Para un límite de {valor_n}:\")\n",
    "print(f\"Cantidad total de multiplicaciones: {productos}\")\n",
    "print(f\"Número total de sumas: {adiciones}\")"
   ]
  },
  {
   "cell_type": "markdown",
   "id": "72fc773f",
   "metadata": {},
   "source": [
    "**b. Modifique la suma en la parte a) a un formato equivalente que reduzca el número de cálculos.**"
   ]
  },
  {
   "cell_type": "code",
   "execution_count": 18,
   "id": "209c5730",
   "metadata": {},
   "outputs": [
    {
     "name": "stdout",
     "output_type": "stream",
     "text": [
      "Para un límite de 5:\n",
      "Cantidad total de multiplicaciones: 15\n",
      "Número total de sumas: 10\n"
     ]
    }
   ],
   "source": [
    "# Definir la función que calcula el número de multiplicaciones y sumas de manera optimizada\n",
    "def calcular_conteo(limite):\n",
    "    # Calcular el total de multiplicaciones usando la fórmula\n",
    "    producto_total = (limite * (limite + 1)) // 2\n",
    "    # Calcular el total de sumas usando la fórmula\n",
    "    adiciones_totales = ((limite - 1) * limite) // 2\n",
    "    return producto_total, adiciones_totales\n",
    "\n",
    "# Ejemplo \n",
    "valor_n = 5\n",
    "productos, adiciones = calcular_conteo(valor_n)\n",
    "print(f\"Para un límite de {valor_n}:\")\n",
    "print(f\"Cantidad total de multiplicaciones: {productos}\")\n",
    "print(f\"Número total de sumas: {adiciones}\")\n"
   ]
  },
  {
   "cell_type": "code",
   "execution_count": null,
   "id": "d61e7d43",
   "metadata": {},
   "outputs": [],
   "source": []
  }
 ],
 "metadata": {
  "kernelspec": {
   "display_name": "base",
   "language": "python",
   "name": "python3"
  },
  "language_info": {
   "codemirror_mode": {
    "name": "ipython",
    "version": 3
   },
   "file_extension": ".py",
   "mimetype": "text/x-python",
   "name": "python",
   "nbconvert_exporter": "python",
   "pygments_lexer": "ipython3",
   "version": "3.11.7"
  }
 },
 "nbformat": 4,
 "nbformat_minor": 5
}
