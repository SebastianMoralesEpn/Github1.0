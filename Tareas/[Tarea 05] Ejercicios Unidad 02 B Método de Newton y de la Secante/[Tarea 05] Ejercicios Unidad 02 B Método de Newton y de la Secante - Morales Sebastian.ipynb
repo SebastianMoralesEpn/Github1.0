{
 "cells": [
  {
   "cell_type": "markdown",
   "id": "388fbadc",
   "metadata": {},
   "source": [
    "# **Escuela Politécnica Nacional**\n",
    "## **[Tarea 04] Ejercicios Unidad 02-A | Bisección**\n",
    "### **Nombre:** Sebastián Morales\n",
    "### **Fecha:** 15/05/2025\n",
    "### **Curso:** GR1CC "
   ]
  },
  {
   "cell_type": "markdown",
   "id": "38db2eb0",
   "metadata": {},
   "source": [
    "### **Repositorio:**\n"
   ]
  },
  {
   "cell_type": "markdown",
   "id": "e5811044",
   "metadata": {},
   "source": [
    "**CONJUNTO DE EJERCICIOS**"
   ]
  },
  {
   "cell_type": "markdown",
   "id": "67cd9b30",
   "metadata": {},
   "source": []
  }
 ],
 "metadata": {
  "language_info": {
   "name": "python"
  }
 },
 "nbformat": 4,
 "nbformat_minor": 5
}
