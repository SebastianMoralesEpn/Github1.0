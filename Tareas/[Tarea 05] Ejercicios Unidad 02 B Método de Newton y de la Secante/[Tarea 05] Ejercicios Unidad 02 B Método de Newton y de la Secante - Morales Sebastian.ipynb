{
 "cells": [
  {
   "cell_type": "markdown",
   "id": "388fbadc",
   "metadata": {},
   "source": [
    "# **Escuela Politécnica Nacional**\n",
    "## **[Tarea 05] Ejercicios Unidad 02 B Método de Newton y de la Secante**\n",
    "### **Nombre:** Sebastián Morales\n",
    "### **Fecha:** 15/05/2025\n",
    "### **Curso:** GR1CC "
   ]
  },
  {
   "cell_type": "markdown",
   "id": "38db2eb0",
   "metadata": {},
   "source": [
    "### **Repositorio:**\n"
   ]
  },
  {
   "cell_type": "markdown",
   "id": "e5811044",
   "metadata": {},
   "source": [
    "**CONJUNTO DE EJERCICIOS**"
   ]
  },
  {
   "cell_type": "markdown",
   "id": "67cd9b30",
   "metadata": {},
   "source": [
    "**1. Sea**"
   ]
  },
  {
   "attachments": {
    "1.png": {
     "image/png": "[encoded data removed]"
    }
   },
   "cell_type": "markdown",
   "id": "b3df292a",
   "metadata": {},
   "source": [
    "![1.png](attachment:1.png)"
   ]
  },
  {
   "cell_type": "markdown",
   "id": "857c4928",
   "metadata": {},
   "source": [
    "**y 𝑝_0=−1. Use el método de Newton y de la Secante para encontrar 𝑝_2. ¿Se podría usar 𝑝_0=0?**"
   ]
  },
  {
   "cell_type": "markdown",
   "id": "c821bc6a",
   "metadata": {},
   "source": [
    "**Método de Newton**"
   ]
  },
  {
   "cell_type": "code",
   "execution_count": 19,
   "id": "4430dafb",
   "metadata": {},
   "outputs": [],
   "source": [
    "import numpy as np\n",
    "\n",
    "# Definición de la función y su derivada\n",
    "def f(x):\n",
    "    return -x**3 - np.cos(x)\n",
    "\n",
    "def g(x):\n",
    "    return -3*x**2 + np.sin(x)\n",
    "\n",
    "# Método de Newton\n",
    "def newton(p0, max_iter=2):\n",
    "    p = p0\n",
    "    for i in range(max_iter):\n",
    "        p = p - f(p)/g(p)\n",
    "        print(f\"Iteración {i+1}: p_{i+1} = {p:.6f}\")\n",
    "    return p\n",
    "# Punto inicial\n",
    "p0 = -1\n"
   ]
  },
  {
   "cell_type": "markdown",
   "id": "179ae3ec",
   "metadata": {},
   "source": [
    "**Método de la Secante**"
   ]
  },
  {
   "cell_type": "code",
   "execution_count": 20,
   "id": "7e656a96",
   "metadata": {},
   "outputs": [],
   "source": [
    "# Método de la Secante\n",
    "def secante(p0, p1, max_iter=2):\n",
    "    for i in range(max_iter):\n",
    "        p2 = p1 - f(p1)*(p1 - p0)/(f(p1) - f(p0))\n",
    "        print(f\"Iteración {i+1}: p_{i+2} = {p2:.6f}\")\n",
    "        p0, p1 = p1, p2\n",
    "    return p2\n"
   ]
  },
  {
   "cell_type": "code",
   "execution_count": 25,
   "id": "90435fec",
   "metadata": {},
   "outputs": [
    {
     "name": "stdout",
     "output_type": "stream",
     "text": [
      "Método de Newton:\n",
      "Iteración 1: p_1 = -0.880333\n",
      "Iteración 2: p_2 = -0.865684\n",
      "\n",
      "Valor final con Newton: p_2 = -0.865684\n",
      "\n",
      "Método de la Secante:\n",
      "Iteración 1: p_1 = -0.880333\n",
      "Iteración 1: p_2 = -0.867235\n",
      "Iteración 2: p_3 = -0.865499\n",
      "\n",
      "Valor final con Secante: p_2 = -0.865499\n",
      "\n"
     ]
    }
   ],
   "source": [
    "print(\"Método de Newton:\")\n",
    "p2_newton = newton(p0)\n",
    "print(f\"\\nValor final con Newton: p_2 = {p2_newton:.6f}\\n\")\n",
    "\n",
    "print(\"Método de la Secante:\")\n",
    "p1_newton = newton(p0, max_iter=1)\n",
    "p2_secant = secante(p0, p1_newton)\n",
    "print(f\"\\nValor final con Secante: p_2 = {p2_secant:.6f}\\n\")"
   ]
  },
  {
   "cell_type": "code",
   "execution_count": 24,
   "id": "762d9a3e",
   "metadata": {},
   "outputs": [
    {
     "name": "stdout",
     "output_type": "stream",
     "text": [
      "\n",
      "Prueba con Secante usando p0 = 0 y p1 = -0.5:\n",
      "Iteración 1: p_2 = -2.020876\n",
      "Iteración 2: p_3 = -0.621239\n",
      "Sí se puede usar p0 = 0 en el método de la Secante si elegimos un p1 adecuado\n"
     ]
    }
   ],
   "source": [
    "# Verificación para Secante con p0 = 0\n",
    "print(\"\\nPrueba con Secante usando p0 = 0 y p1 = -0.5:\")\n",
    "secant_p0_0 = secante(0, -0.5)\n",
    "print(\"Sí se puede usar p0 = 0 en el método de la Secante si elegimos un p1 adecuado\")"
   ]
  },
  {
   "cell_type": "markdown",
   "id": "4d06938f",
   "metadata": {},
   "source": [
    "**2. Encuentre soluciones precisas dentro de 10^(-4) para los siguientes problemas.**"
   ]
  },
  {
   "cell_type": "code",
   "execution_count": 11,
   "id": "0ba4fe8c",
   "metadata": {},
   "outputs": [],
   "source": [
    "import math\n",
    "# Definición de funciones para el método de Newton y la Secante\n",
    "def newton_2(f, df, x0, tol=1e-4, max_iter=100):\n",
    "    for i in range(max_iter):\n",
    "        fx = f(x0)\n",
    "        dfx = df(x0)\n",
    "        if abs(fx) < tol:\n",
    "            return x0, i+1\n",
    "        if dfx == 0:\n",
    "            raise ValueError(\"Derivada cero. No se puede continuar.\")\n",
    "        x1 = x0 - fx/dfx\n",
    "        if abs(x1 - x0) < tol:\n",
    "            return x1, i+1\n",
    "        x0 = x1\n",
    "    raise ValueError(\"El método no convergió después de {} iteraciones.\".format(max_iter))\n",
    "\n",
    "def secante_2(f, x0, x1, tol=1e-4, max_iter=100):\n",
    "   \n",
    "    for i in range(max_iter):\n",
    "        fx0 = f(x0)\n",
    "        fx1 = f(x1)\n",
    "        if abs(fx1) < tol:\n",
    "            return x1, i+1\n",
    "        if fx1 - fx0 == 0:\n",
    "            raise ValueError(\"División por cero. No se puede continuar.\")\n",
    "        x2 = x1 - fx1*(x1 - x0)/(fx1 - fx0)\n",
    "        if abs(x2 - x1) < tol:\n",
    "            return x2, i+1\n",
    "        x0, x1 = x1, x2\n",
    "    raise ValueError(\"El método no convergió después de {} iteraciones.\".format(max_iter))"
   ]
  },
  {
   "cell_type": "markdown",
   "id": "0af89de7",
   "metadata": {},
   "source": [
    "**a.**"
   ]
  },
  {
   "attachments": {
    "2a.png": {
     "image/png": "[encoded data removed]"
    }
   },
   "cell_type": "markdown",
   "id": "72bf04a0",
   "metadata": {},
   "source": [
    "![2a.png](attachment:2a.png)"
   ]
  },
  {
   "cell_type": "code",
   "execution_count": null,
   "id": "f5b8438d",
   "metadata": {},
   "outputs": [
    {
     "name": "stdout",
     "output_type": "stream",
     "text": [
      "Solución: 2.690648 \n",
      "Iteraciones: 10\n"
     ]
    }
   ],
   "source": [
    "\n",
    "def fa(x): \n",
    "    return x**3 - 2*x**2 - 5\n",
    "def dfa(x): \n",
    "    return 3*x**2 - 4*x\n",
    "\n",
    "solucion_a_S, iter_a_secante = secante_2(fa, 1, 4)\n",
    "print(f\"Solución: {solucion_a_S:.6f} \\nIteraciones: {iter_a_secante}\")\n"
   ]
  },
  {
   "cell_type": "markdown",
   "id": "94064109",
   "metadata": {},
   "source": [
    "**b.**"
   ]
  },
  {
   "attachments": {
    "2b.png": {
     "image/png": "[encoded data removed]"
    }
   },
   "cell_type": "markdown",
   "id": "ddaa5407",
   "metadata": {},
   "source": [
    "![2b.png](attachment:2b.png)"
   ]
  },
  {
   "cell_type": "code",
   "execution_count": null,
   "id": "2b92f33e",
   "metadata": {},
   "outputs": [
    {
     "name": "stdout",
     "output_type": "stream",
     "text": [
      "Solución: -2.879385 \n",
      "Iteraciones: 5\n"
     ]
    }
   ],
   "source": [
    "def fb(x): \n",
    "    return x**3 + 3*x**2 - 1\n",
    "def dfb(x): \n",
    "    return 3*x**2 + 6*x\n",
    "\n",
    "sol_b, iter_b = newton_2(fb, dfb, -2.5)\n",
    "print(f\"Solución: {sol_b:.6f} \\nIteraciones: {iter_b}\")"
   ]
  },
  {
   "cell_type": "markdown",
   "id": "bd36eac4",
   "metadata": {},
   "source": [
    "**c.**"
   ]
  },
  {
   "attachments": {
    "2c.png": {
     "image/png": "[encoded data removed]"
    }
   },
   "cell_type": "markdown",
   "id": "db60dcea",
   "metadata": {},
   "source": [
    "![2c.png](attachment:2c.png)"
   ]
  },
  {
   "cell_type": "code",
   "execution_count": null,
   "id": "9e9eed5e",
   "metadata": {},
   "outputs": [
    {
     "name": "stdout",
     "output_type": "stream",
     "text": [
      "Solución: 0.739083 \n",
      "Iteraciones: 5\n"
     ]
    }
   ],
   "source": [
    "def fc(x): \n",
    "    return x - math.cos(x)\n",
    "def dfc(x): \n",
    "    return 1 + math.sin(x)\n",
    "\n",
    "sol_c_sec, iter_c_sec = secante_2(fc, 0, math.pi/2)\n",
    "print(f\"Solución: {sol_c_sec:.6f} \\nIteraciones: {iter_c_sec}\")"
   ]
  },
  {
   "cell_type": "markdown",
   "id": "d837a100",
   "metadata": {},
   "source": [
    "**d.**"
   ]
  },
  {
   "attachments": {
    "2d.png": {
     "image/png": "[encoded data removed]"
    }
   },
   "cell_type": "markdown",
   "id": "65ea5ff8",
   "metadata": {},
   "source": [
    "![2d.png](attachment:2d.png)"
   ]
  },
  {
   "cell_type": "code",
   "execution_count": null,
   "id": "bc3894dc",
   "metadata": {},
   "outputs": [
    {
     "name": "stdout",
     "output_type": "stream",
     "text": [
      "Solución: 0.964346 \n",
      "Iteraciones: 4\n"
     ]
    }
   ],
   "source": [
    "def fd(x): \n",
    "    return x - 0.8 - 0.2*math.sin(x)\n",
    "def dfd(x): \n",
    "    return 1 - 0.2*math.cos(x)\n",
    "\n",
    "sol_d_sec, iter_d_sec = secante_2(fd, 0, math.pi/2)\n",
    "print(f\"Solución: {sol_d_sec:.6f} \\nIteraciones: {iter_d_sec}\")"
   ]
  },
  {
   "cell_type": "markdown",
   "id": "87a7fa51",
   "metadata": {},
   "source": [
    "**3. Use los 2 métodos en esta sección para encontrar las soluciones dentro de 10^(-5) para los siguientes problemas.**"
   ]
  },
  {
   "cell_type": "markdown",
   "id": "6a79fe97",
   "metadata": {},
   "source": [
    "**a.**"
   ]
  },
  {
   "attachments": {
    "3a.png": {
     "image/png": "[encoded data removed]"
    }
   },
   "cell_type": "markdown",
   "id": "2c254732",
   "metadata": {},
   "source": [
    "![3a.png](attachment:3a.png)"
   ]
  },
  {
   "cell_type": "code",
   "execution_count": 38,
   "id": "db1271c1",
   "metadata": {},
   "outputs": [
    {
     "name": "stdout",
     "output_type": "stream",
     "text": [
      "Método de Newton:\n",
      "Solución: 1.51213463 \n",
      "Iteraciones: 3\n",
      "\n",
      "Método de la Secante:\n",
      "Solución: 1.51213398 \n",
      "Iteraciones: 9\n"
     ]
    }
   ],
   "source": [
    "def f3a(x): \n",
    "    return 3*x - math.exp(x)\n",
    "def df3a(x): \n",
    "    return 3 - math.exp(x)\n",
    "\n",
    "print(\"Método de Newton:\")\n",
    "solucion_a_N, iter_a_newton = newton_2(f3a, df3a, 1.5, tol=1e-5)\n",
    "print(f\"Solución: {solucion_a_N:.8f} \\nIteraciones: {iter_a_newton}\")\n",
    "\n",
    "print(\"\\nMétodo de la Secante:\")\n",
    "solucion_a_S, iter_a_secante = secante_2(f3a, 1, 2, tol=1e-5)\n",
    "print(f\"Solución: {solucion_a_S:.8f} \\nIteraciones: {iter_a_secante}\")"
   ]
  },
  {
   "cell_type": "markdown",
   "id": "998976af",
   "metadata": {},
   "source": [
    "**b.**"
   ]
  },
  {
   "attachments": {
    "3b.png": {
     "image/png": "[encoded data removed]"
    }
   },
   "cell_type": "markdown",
   "id": "3df78a44",
   "metadata": {},
   "source": [
    "![3b.png](attachment:3b.png)"
   ]
  },
  {
   "cell_type": "code",
   "execution_count": 39,
   "id": "a324c822",
   "metadata": {},
   "outputs": [
    {
     "name": "stdout",
     "output_type": "stream",
     "text": [
      "Método de Newton:\n",
      "Solución: 1.23971478 \n",
      "Iteraciones: 4\n",
      "\n",
      "Método de la Secante:\n",
      "Solución: 1.23971469 \n",
      "Iteraciones: 6\n"
     ]
    }
   ],
   "source": [
    "def f3b(x): \n",
    "    return 2*x + 3*math.cos(x) - math.exp(x)\n",
    "def df3b(x): \n",
    "    return 2 - 3*math.sin(x) - math.exp(x)\n",
    "\n",
    "print(\"Método de Newton:\")\n",
    "solucion_a_N, iter_a_newton = newton_2(f3b, df3b, 1.5, tol=1e-5)\n",
    "print(f\"Solución: {solucion_a_N:.8f} \\nIteraciones: {iter_a_newton}\")\n",
    "\n",
    "print(\"\\nMétodo de la Secante:\")\n",
    "solucion_a_S, iter_a_secante = secante_2(f3b, 1, 2, tol=1e-5)\n",
    "print(f\"Solución: {solucion_a_S:.8f} \\nIteraciones: {iter_a_secante}\")"
   ]
  },
  {
   "cell_type": "markdown",
   "id": "2d0d8a0d",
   "metadata": {},
   "source": [
    "**4. El polinomio de cuarto grado**"
   ]
  },
  {
   "attachments": {
    "4.png": {
     "image/png": "[encoded data removed]"
    }
   },
   "cell_type": "markdown",
   "id": "be46032b",
   "metadata": {},
   "source": [
    "![4.png](attachment:4.png)"
   ]
  },
  {
   "cell_type": "markdown",
   "id": "12c7112f",
   "metadata": {},
   "source": [
    "**Tiene dos ceros reales, uno en [-1,0] y el otro en [0,1]. Intente aproximar estos ceros dentro de 10^(-6) con**"
   ]
  },
  {
   "cell_type": "markdown",
   "id": "c7102ce8",
   "metadata": {},
   "source": [
    "**a. El método de la secante (use los extremos como las estimaciones iniciales)**"
   ]
  },
  {
   "cell_type": "code",
   "execution_count": 41,
   "id": "f88c841b",
   "metadata": {},
   "outputs": [
    {
     "name": "stdout",
     "output_type": "stream",
     "text": [
      "Método de la Secante:\n",
      "Raíz en [-1, 0]: -0.04065929, Iteraciones: 4\n",
      "Raíz en [0, 1]: -0.04065929, Iteraciones: 11\n"
     ]
    }
   ],
   "source": [
    "# Definición de la función \n",
    "def f4(x):\n",
    "    return 230*x**4 + 18*x**3 + 9*x**2 - 221*x - 9\n",
    "\n",
    "print(\"Método de la Secante:\")\n",
    "# Raíz en [-1, 0]\n",
    "solucion4, iter_solucion4 = secante_2(f4, -1, 0, tol=1e-6)\n",
    "print(f\"Raíz en [-1, 0]: {solucion4:.8f}, Iteraciones: {iter_solucion4}\")\n",
    "# Raíz en [0, 1]\n",
    "solucion4_2, iter_solucion4_2 = secante_2(f4, 0, 1, tol=1e-6)\n",
    "print(f\"Raíz en [0, 1]: {solucion4_2:.8f}, Iteraciones: {iter_solucion4_2}\")"
   ]
  },
  {
   "cell_type": "markdown",
   "id": "148f98bc",
   "metadata": {},
   "source": [
    "**b. El método de Newton (use el punto medio como la estimación inicial)**"
   ]
  },
  {
   "cell_type": "code",
   "execution_count": 44,
   "id": "96ad8367",
   "metadata": {},
   "outputs": [
    {
     "name": "stdout",
     "output_type": "stream",
     "text": [
      "Método de Newton:\n",
      "Raíz en [-1, 0]: -0.04065929, Iteraciones: 4\n",
      "Raíz en [0, 1]: -0.04065929, Iteraciones: 6\n"
     ]
    }
   ],
   "source": [
    "# Definición de la función y su derivada\n",
    "def f4(x):\n",
    "    return 230*x**4 + 18*x**3 + 9*x**2 - 221*x - 9\n",
    "\n",
    "def df4(x):\n",
    "    return 920*x**3 + 54*x**2 + 18*x - 221\n",
    "\n",
    "print(\"Método de Newton:\")\n",
    "# Raíz en [-1, 0]\n",
    "solucion_4b, iter_4b = newton_2(f4, df4, -0.5, tol=1e-6)\n",
    "print(f\"Raíz en [-1, 0]: {solucion_4b:.8f}, Iteraciones: {iter_4b}\")\n",
    "# Raíz en [0, 1]\n",
    "solucion_4b_2, iter_4b_2 = newton_2(f4, df4, 0.5, tol=1e-6)\n",
    "print(f\"Raíz en [0, 1]: {solucion_4b_2:.8f}, Iteraciones: {iter_4b_2}\")"
   ]
  },
  {
   "cell_type": "markdown",
   "id": "353512d7",
   "metadata": {},
   "source": [
    "**5. La función**"
   ]
  },
  {
   "attachments": {
    "5.png": {
     "image/png": "[encoded data removed]"
    }
   },
   "cell_type": "markdown",
   "id": "adf02390",
   "metadata": {},
   "source": [
    "![5.png](attachment:5.png)"
   ]
  },
  {
   "cell_type": "markdown",
   "id": "182f8d7c",
   "metadata": {},
   "source": [
    "**tiene cero en (1/π) arcotangente 6 ≈0.447431543. Sea p_o=0 y p_1=0.48 y use 10 iteraciones en cada uno de los siguientes métodos para aproximar esta raíz. ¿Cuál método es más eficaz y por qué?**"
   ]
  },
  {
   "cell_type": "markdown",
   "id": "73c3e8b4",
   "metadata": {},
   "source": [
    "**a. Método de bisección**"
   ]
  },
  {
   "cell_type": "code",
   "execution_count": 48,
   "id": "1080c700",
   "metadata": {},
   "outputs": [
    {
     "name": "stdout",
     "output_type": "stream",
     "text": [
      "Método de Bisección:\n",
      "Solución: 0.447421875 \n",
      "Error estimado: 4.69e-04\n"
     ]
    }
   ],
   "source": [
    "# Definición de la función \n",
    "def f_tan(x):\n",
    "    return math.tan(math.pi * x) - 6\n",
    "\n",
    "# Método de bisección (nuevo método a añadir)\n",
    "def biseccion(f, a, b, max_iter=10):\n",
    "\n",
    "    if f(a) * f(b) >= 0:\n",
    "        raise ValueError(\"La función debe cambiar de signo en el intervalo [a, b]\")\n",
    "    \n",
    "    for i in range(max_iter):\n",
    "        c = (a + b) / 2\n",
    "        if f(c) == 0:\n",
    "            return c, 0\n",
    "        elif f(a) * f(c) < 0:\n",
    "            b = c\n",
    "        else:\n",
    "            a = c\n",
    "    return (a + b) / 2, abs(b - a)\n",
    "\n",
    "# Puntos iniciales\n",
    "p0 = 0\n",
    "p1 = 0.48\n",
    "\n",
    "print(\"Método de Bisección:\")\n",
    "sol_bisec, error_bisec = biseccion(f_tan, p0, p1, max_iter=10)\n",
    "print(f\"Solución: {sol_bisec:.9f} \\nError estimado: {error_bisec:.2e}\")"
   ]
  },
  {
   "cell_type": "markdown",
   "id": "cafdd210",
   "metadata": {},
   "source": [
    "**b. Método de Newton**"
   ]
  },
  {
   "cell_type": "code",
   "execution_count": null,
   "id": "c8517a2a",
   "metadata": {},
   "outputs": [
    {
     "name": "stdout",
     "output_type": "stream",
     "text": [
      "Método de Newton:\n",
      "Solución: 0.447431543 alcanzada en 10 iteraciones\n"
     ]
    }
   ],
   "source": [
    "# Definición de la derivada de la función tangente\n",
    "def df_tan(x):\n",
    "    return math.pi / (math.cos(math.pi * x))**2\n",
    "\n",
    "# Versión modificada del método de Newton para evitar singularidades\n",
    "def newton_mod(f, df, x0, tol=1e-6, max_iter=100, safe_range=(0, 0.5)):\n",
    "    for i in range(max_iter):\n",
    "        try:\n",
    "            fx = f(x0)\n",
    "            if abs(fx) < tol:\n",
    "                return x0, i+1\n",
    "            dfx = df(x0)\n",
    "            if dfx == 0:\n",
    "                raise ValueError(\"Derivada cero\")\n",
    "            x1 = x0 - fx/dfx\n",
    "            # Verificar que no salga del rango seguro\n",
    "            if x1 <= safe_range[0] or x1 >= safe_range[1]:\n",
    "                x1 = (safe_range[0] + safe_range[1])/2  # Reajustar al centro\n",
    "            if abs(x1 - x0) < tol:\n",
    "                return x1, i+1\n",
    "            x0 = x1\n",
    "        except:\n",
    "            # Si hay error (singularidad), reajustar el punto\n",
    "            x0 = (safe_range[0] + safe_range[1])/2\n",
    "    return x0, max_iter\n",
    "\n",
    "# Puntos iniciales\n",
    "x0_newton = p1  # Para Newton usamos p1 como estimación inicial\n",
    "\n",
    "print(\"Método de Newton:\")\n",
    "sol_newton7, iter_newton7 = newton_mod(f_tan, df_tan, x0_newton, tol=0, max_iter=10)\n",
    "print(f\"Solución: {sol_newton7:.9f} alcanzada en {iter_newton7} iteraciones\")"
   ]
  },
  {
   "cell_type": "markdown",
   "id": "f4aaed38",
   "metadata": {},
   "source": [
    "**c. Método de la secante**"
   ]
  },
  {
   "cell_type": "code",
   "execution_count": null,
   "id": "d0f152ed",
   "metadata": {},
   "outputs": [
    {
     "name": "stdout",
     "output_type": "stream",
     "text": [
      "Método de la Secante:\n",
      "Solución: 0.250000000 alcanzada en 10 iteraciones\n"
     ]
    }
   ],
   "source": [
    "# Versión modificada del método de la secante\n",
    "def secante_mod(f, x0, x1, tol=1e-6, max_iter=100, safe_range=(0, 0.5)):\n",
    "    for i in range(max_iter):\n",
    "        try:\n",
    "            fx0 = f(x0)\n",
    "            fx1 = f(x1)\n",
    "            if abs(fx1) < tol:\n",
    "                return x1, i+1\n",
    "            if fx1 - fx0 == 0:\n",
    "                x2 = (x0 + x1)/2\n",
    "            else:\n",
    "                x2 = x1 - fx1*(x1 - x0)/(fx1 - fx0)\n",
    "            # Verificar que no salga del rango seguro\n",
    "            if x2 <= safe_range[0] or x2 >= safe_range[1]:\n",
    "                x2 = (safe_range[0] + safe_range[1])/2\n",
    "            if abs(x2 - x1) < tol:\n",
    "                return x2, i+1\n",
    "            x0, x1 = x1, x2\n",
    "        except:\n",
    "            # Si hay error (singularidad), reajustar los puntos\n",
    "            x0, x1 = safe_range[0], safe_range[1]\n",
    "    return x1, max_iter\n",
    "\n",
    "print(\"Método de la Secante:\")\n",
    "sol_sec7, iter_sec7 = secante_mod(f_tan, p0, p1, tol=0, max_iter=10)\n",
    "print(f\"Solución: {sol_sec7:.9f} alcanzada en {iter_sec7} iteraciones\")"
   ]
  },
  {
   "cell_type": "markdown",
   "id": "6ee18227",
   "metadata": {},
   "source": [
    "**6. La función descrita por**"
   ]
  },
  {
   "attachments": {
    "6.png": {
     "image/png": "[encoded data removed]"
    }
   },
   "cell_type": "markdown",
   "id": "909de105",
   "metadata": {},
   "source": [
    "![6.png](attachment:6.png)"
   ]
  },
  {
   "cell_type": "markdown",
   "id": "bc08f457",
   "metadata": {},
   "source": [
    "**tiene un numero infinito de ceros.**"
   ]
  },
  {
   "cell_type": "markdown",
   "id": "5ae68bcf",
   "metadata": {},
   "source": [
    "**a. Determine, dentro de 10^(-6), el único cero negativo.**"
   ]
  },
  {
   "cell_type": "code",
   "execution_count": null,
   "id": "c4ea74cd",
   "metadata": {},
   "outputs": [
    {
     "name": "stdout",
     "output_type": "stream",
     "text": [
      "Solución de la raiz: -0.43414306 \n",
      "Iteraciones: 3\n"
     ]
    }
   ],
   "source": [
    "# Definición de la función\n",
    "def f6(x):\n",
    "    return math.log(x**2 + 1) - math.exp(0.4*x) * math.cos(math.pi*x)\n",
    "\n",
    "# Derivada de la función\n",
    "def df6(x):\n",
    "    return (2*x)/(x**2 + 1) - 0.4*math.exp(0.4*x)*math.cos(math.pi*x) + math.pi*math.exp(0.4*x)*math.sin(math.pi*x)\n",
    "\n",
    "sol_6a, iter_6a = newton_2(f6, df6, -0.5)\n",
    "print(f\"Solución de la raiz: {sol_6a:.8f} \\nIteraciones: {iter_6a}\")"
   ]
  },
  {
   "cell_type": "markdown",
   "id": "14513f78",
   "metadata": {},
   "source": [
    "**b. Determine, dentro de 10^(-6), los cuatro ceros positivos más pequeños.**"
   ]
  },
  {
   "cell_type": "code",
   "execution_count": 41,
   "id": "f04b1ea9",
   "metadata": {},
   "outputs": [
    {
     "name": "stdout",
     "output_type": "stream",
     "text": [
      "Raíces positivas de la función f6:\n",
      "Raiz en (0.5): 0.45065774 en 3 iteraciones\n",
      "Raiz en (1.5): 1.74473741 en 3 iteraciones\n",
      "Raiz en (2.5): 2.23831980 en 4 iteraciones\n",
      "Raiz en (3.5): 3.70903621 en 3 iteraciones\n"
     ]
    }
   ],
   "source": [
    "print(\"Raíces positivas de la función f6:\")\n",
    "\n",
    "# Puntos medios de los intervalos [0, 1], [1, 2], [2, 3], [3, 4]\n",
    "zeros_pos = []\n",
    "initial_guesses = [0.5, 1.5, 2.5, 3.5] \n",
    "for guess in initial_guesses:\n",
    "    sol_6b, iter_6b = newton_2(f6, df6, guess)\n",
    "    zeros_pos.append(sol_6b)\n",
    "    print(f\"Raiz en ({guess}): {sol_6b:.8f} en {iter_6b} iteraciones\")"
   ]
  },
  {
   "cell_type": "markdown",
   "id": "56f3d959",
   "metadata": {},
   "source": [
    "**c. Determine una aproximación inicial razonable para encontrar el enésimo cero positivo más pequeño de f. [Sugerencia: Dibuje una gráfica aproximada de f.]**"
   ]
  },
  {
   "cell_type": "code",
   "execution_count": null,
   "id": "411e5535",
   "metadata": {},
   "outputs": [
    {
     "data": {
      "image/png": "[encoded data removed]",
      "text/plain": [
       "<Figure size 1000x500 with 1 Axes>"
      ]
     },
     "metadata": {},
     "output_type": "display_data"
    }
   ],
   "source": [
    "import numpy as np\n",
    "from matplotlib import pyplot as plt\n",
    "\n",
    "# Visualización de la función\n",
    "x_vals = np.linspace(-1, 5, 500)\n",
    "y_vals = [f6(x) for x in x_vals]\n",
    "plt.figure(figsize=(10, 5))\n",
    "plt.plot(x_vals, y_vals)\n",
    "plt.axhline(0, color='red', linestyle='--')\n",
    "plt.title(\"Gráfica de f(x) = ln(x²+1) - e^(0.4x)cos(πx)\")\n",
    "plt.xlabel(\"x\")\n",
    "plt.ylabel(\"f(x)\")\n",
    "plt.grid()\n",
    "plt.show()"
   ]
  },
  {
   "cell_type": "markdown",
   "id": "7570226f",
   "metadata": {},
   "source": [
    "**d. Use la parte c) para determinar, dentro de 10^(-6), el vigesimoquinto cero positivo más pequeño de f.**"
   ]
  },
  {
   "cell_type": "code",
   "execution_count": 46,
   "id": "2dfb4252",
   "metadata": {},
   "outputs": [
    {
     "name": "stdout",
     "output_type": "stream",
     "text": [
      "Solución n=25 con el método de Newton:\n",
      "N=25 positivo es: 24.49988705 en 2 iteraciones\n"
     ]
    }
   ],
   "source": [
    "\n",
    "print(\"Solución n=25 con el método de Newton:\")\n",
    "guess_25 = nth_zero_guess(25)\n",
    "sol_25, iter_25 = newton_2(f6, df6, guess_25)\n",
    "print(f\"N=25 positivo es: {sol_25:.8f} en {iter_25} iteraciones\")"
   ]
  },
  {
   "cell_type": "markdown",
   "id": "4012d6b5",
   "metadata": {},
   "source": [
    "**7. La función**"
   ]
  },
  {
   "attachments": {
    "7.png": {
     "image/png": "[encoded data removed]"
    }
   },
   "cell_type": "markdown",
   "id": "ba7d5f1f",
   "metadata": {},
   "source": [
    "![7.png](attachment:7.png)"
   ]
  },
  {
   "cell_type": "markdown",
   "id": "b6aeae1c",
   "metadata": {},
   "source": [
    "**tiene raíz en x=0. Usando el punto de inicio de x=1 y p_o=5,p_1=0.5 para el método de secante, compare los resultados de los métodos de la secante y de Newton.**"
   ]
  },
  {
   "cell_type": "markdown",
   "id": "f776db03",
   "metadata": {},
   "source": [
    "**Método de newton**"
   ]
  },
  {
   "cell_type": "code",
   "execution_count": null,
   "id": "6fec9c29",
   "metadata": {},
   "outputs": [
    {
     "name": "stdout",
     "output_type": "stream",
     "text": [
      "Método de Newton:\n",
      "Error: El método no convergió después de 100 iteraciones.\n"
     ]
    }
   ],
   "source": [
    "# Definición de la función y su derivada\n",
    "def f7(x):\n",
    "    if isinstance(x, complex):\n",
    "        return np.nan\n",
    "    return x**(1/3) if x >= 0 else -(-x)**(1/3)\n",
    "\n",
    "def df7(x):\n",
    "    if isinstance(x, complex):\n",
    "        return np.nan\n",
    "    return (1/3)*x**(-2/3) if x != 0 else float('inf')\n",
    "\n",
    "# Puntos iniciales\n",
    "x0_newton = 1  # Para Newton\n",
    "\n",
    "# Resolución con el método de Newton\n",
    "print(\"Método de Newton:\")\n",
    "try:\n",
    "    sol_newton7, iter_newton7 = newton_2(f7, df7, x0_newton, tol=1e-6)\n",
    "    print(f\"Solución: {sol_newton7:.8f}, Iteraciones: {iter_newton7}\")\n",
    "except ValueError as e:\n",
    "    print(f\"Error: {str(e)}\")"
   ]
  },
  {
   "cell_type": "markdown",
   "id": "f7c1d36c",
   "metadata": {},
   "source": [
    "**Método de la Secante**"
   ]
  },
  {
   "cell_type": "code",
   "execution_count": 55,
   "id": "f214e261",
   "metadata": {},
   "outputs": [
    {
     "name": "stdout",
     "output_type": "stream",
     "text": [
      "Método de la Secante:\n",
      "Error: El método no convergió después de 100 iteraciones.\n"
     ]
    }
   ],
   "source": [
    "# Puntos iniciales\n",
    "p0_secante = 5  # Para Secante\n",
    "p1_secante = 0.5  # Para Secante\n",
    "\n",
    "# Resolución con el método de la Secante\n",
    "print(\"Método de la Secante:\")\n",
    "try:\n",
    "    sol_sec7, iter_sec7 = secante_2(f7, p0_secante, p1_secante, tol=1e-6)\n",
    "    print(f\"Solución: {sol_sec7:.8f}, Iteraciones: {iter_sec7}\")\n",
    "except ValueError as e:\n",
    "    print(f\"Error: {str(e)}\")"
   ]
  }
 ],
 "metadata": {
  "kernelspec": {
   "display_name": "base",
   "language": "python",
   "name": "python3"
  },
  "language_info": {
   "codemirror_mode": {
    "name": "ipython",
    "version": 3
   },
   "file_extension": ".py",
   "mimetype": "text/x-python",
   "name": "python",
   "nbconvert_exporter": "python",
   "pygments_lexer": "ipython3",
   "version": "3.11.7"
  }
 },
 "nbformat": 4,
 "nbformat_minor": 5
}
