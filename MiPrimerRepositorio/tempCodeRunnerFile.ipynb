def bubble_sort(arr):
    n = len(arr)
    for i in range(n):
        swapped = False
        for j in range(1, n - i):
            if arr[j] < arr[j - 1]:
                arr[j], arr[j - 1] = arr[j - 1], arr[j]  # Intercambiar elementos
                swapped = True
        if not swapped:
            break  # Si no hubo intercambio, la lista ya está ordenada
    return arr

# Ejemplo de uso
arr = [5, 4, 3, 2, 1]
sorted_arr = bubble_sort(arr)
print("Lista ordenada:", sorted_arr)