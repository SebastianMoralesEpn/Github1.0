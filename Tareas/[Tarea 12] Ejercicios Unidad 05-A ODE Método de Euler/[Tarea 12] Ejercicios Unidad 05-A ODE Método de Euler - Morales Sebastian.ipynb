{
 "cells": [
  {
   "cell_type": "markdown",
   "id": "ea33774d",
   "metadata": {},
   "source": [
    "# **Escuela Politécnica Nacional**\n",
    "## **[Tarea 12] Ejercicios Unidad 05-A | ODE Método de Euler**\n",
    "### **Nombre:** Sebastián Morales\n",
    "### **Fecha:** 06/08/2025\n",
    "### **Curso:** GR1CC "
   ]
  },
  {
   "cell_type": "markdown",
   "id": "3441fd73",
   "metadata": {},
   "source": [
    "### **Repositorio:**\n",
    "https://github.com/SebastianMoralesEpn/Github1.0/tree/8af135b1a6f4113abadd7d26bf35e8e11d28bed1/Tareas/%5BTarea%2011%5D%20Ejercicios%20Unidad%2004-D%20%20Gauss-Jacobi%20y%20Gauss-Seidel"
   ]
  },
  {
   "cell_type": "markdown",
   "id": "f2ecc6f6",
   "metadata": {},
   "source": [
    "**CONJUNTO DE EJERCICIOS**"
   ]
  },
  {
   "cell_type": "markdown",
   "id": "a8f8cfe7",
   "metadata": {},
   "source": [
    "**1. Use el método de Euler para aproximar las soluciones para cada uno de los siguientes problemas de valor inicial**"
   ]
  },
  {
   "cell_type": "code",
   "execution_count": null,
   "id": "4d9d40d5",
   "metadata": {},
   "outputs": [],
   "source": []
  }
 ],
 "metadata": {
  "language_info": {
   "name": "python"
  }
 },
 "nbformat": 4,
 "nbformat_minor": 5
}
