{
 "cells": [
  {
   "cell_type": "code",
   "execution_count": 1,
   "id": "a34eb792",
   "metadata": {},
   "outputs": [],
   "source": [
    "%load_ext autoreload\n"
   ]
  },
  {
   "cell_type": "code",
   "execution_count": 2,
   "id": "89e88f92",
   "metadata": {},
   "outputs": [
    {
     "name": "stdout",
     "output_type": "stream",
     "text": [
      "[08-07 10:04:44][INFO] 2025-08-07 10:04:44.128309\n",
      "[08-07 10:04:44][INFO] 2025-08-07 10:04:44.439981\n"
     ]
    },
    {
     "ename": "ImportError",
     "evalue": "cannot import name 'ODE_euler' from 'src' (c:\\Users\\PC\\Documents\\Github1.0\\[Prueba 02] capítulo III-IV\\src\\__init__.py)",
     "output_type": "error",
     "traceback": [
      "\u001b[31m---------------------------------------------------------------------------\u001b[39m",
      "\u001b[31mImportError\u001b[39m                               Traceback (most recent call last)",
      "\u001b[36mCell\u001b[39m\u001b[36m \u001b[39m\u001b[32mIn[2]\u001b[39m\u001b[32m, line 2\u001b[39m\n\u001b[32m      1\u001b[39m get_ipython().run_line_magic(\u001b[33m'\u001b[39m\u001b[33mautoreload\u001b[39m\u001b[33m'\u001b[39m, \u001b[33m'\u001b[39m\u001b[33m2\u001b[39m\u001b[33m'\u001b[39m)\n\u001b[32m----> \u001b[39m\u001b[32m2\u001b[39m \u001b[38;5;28;01mfrom\u001b[39;00m\u001b[38;5;250m \u001b[39m\u001b[34;01msrc\u001b[39;00m\u001b[38;5;250m \u001b[39m\u001b[38;5;28;01mimport\u001b[39;00m ODE_euler\n\u001b[32m      3\u001b[39m \u001b[38;5;66;03m# Definir la función f(t, y) correspondiente a la ecuación diferencial\u001b[39;00m\n\u001b[32m      4\u001b[39m \u001b[38;5;28;01mdef\u001b[39;00m\u001b[38;5;250m \u001b[39m\u001b[34mf\u001b[39m(t, y):\n",
      "\u001b[31mImportError\u001b[39m: cannot import name 'ODE_euler' from 'src' (c:\\Users\\PC\\Documents\\Github1.0\\[Prueba 02] capítulo III-IV\\src\\__init__.py)"
     ]
    }
   ],
   "source": [
    "%autoreload 2\n",
    "from src import ODE_euler\n",
    "# Definir la función f(t, y) correspondiente a la ecuación diferencial\n",
    "def f(t, y):\n",
    "    return -5*y + 5*t**2 + 2*t\n",
    "\n",
    "# Parámetros del problema\n",
    "a = 0  # tiempo inicial\n",
    "b = 1  # tiempo final\n",
    "y_t0 = 1/3  # condición inicial\n",
    "N = 10  # número de puntos de malla\n",
    "\n",
    "# Resolver la ecuación diferencial utilizando el método de Euler\n",
    "ys, ts, h = ODE_euler(a=a, b=b, f=f, y_t0=y_t0, N=N)\n",
    "\n",
    "# Imprimir el valor de h\n",
    "print(f\"El valor de h es {h}\")\n",
    "\n",
    "# Graficar los resultados\n",
    "plt.plot(ts, ys, label=\"Aproximación Euler\")\n",
    "plt.xlabel(\"t\")\n",
    "plt.ylabel(\"y\")\n",
    "plt.title(\"Solución de la EDO usando el método de Euler\")\n",
    "plt.legend()\n",
    "plt.grid(True)\n",
    "plt.show()"
   ]
  },
  {
   "cell_type": "code",
   "execution_count": null,
   "id": "37a71796",
   "metadata": {},
   "outputs": [],
   "source": [
    "%autoreload 2\n",
    "from src import ODE_euler\n",
    "\n",
    "# Definir la función f(t, y) correspondiente a la ecuación diferencial\n",
    "def f(t, y):\n",
    "    return -5*y + 5*t**2 + 2*t\n",
    "\n",
    "# Definir la solución real de la ecuación diferencial\n",
    "def solucion_real(t):\n",
    "    return t**2 + (1/3) * np.exp(-5*t)\n",
    "\n",
    "# Parámetros del problema\n",
    "a = 0  # tiempo inicial\n",
    "b = 1  # tiempo final\n",
    "y_t0 = 1/3  # condición inicial\n",
    "N = 10  # número de puntos de malla\n",
    "\n",
    "# Resolver la ecuación diferencial utilizando el método de Euler\n",
    "ys, ts, h = ODE_euler(a=a, b=b, f=f, y_t0=y_t0, N=N)\n",
    "\n",
    "# Calcular la solución real en los mismos puntos de malla\n",
    "ys_real = [solucion_real(t) for t in ts]\n",
    "\n",
    "# Imprimir el valor de h\n",
    "print(f\"El valor de h es {h}\")\n",
    "\n",
    "# Graficar los resultados\n",
    "plt.plot(ts, ys, label=\"Aproximación Euler\", marker='o')\n",
    "plt.plot(ts, ys_real, label=\"Solución Real\", linestyle='--')\n",
    "plt.xlabel(\"t\")\n",
    "plt.ylabel(\"y\")\n",
    "plt.title(\"Comparación de la solución real y la aproximación de Euler\")\n",
    "plt.legend()\n",
    "plt.grid(True)\n",
    "plt.show()"
   ]
  },
  {
   "cell_type": "markdown",
   "id": "05b1ae71",
   "metadata": {},
   "source": [
    "**Errores**"
   ]
  },
  {
   "cell_type": "markdown",
   "id": "0eaa52c8",
   "metadata": {},
   "source": [
    "Calcule el eeror relativo para diferentes valores de N."
   ]
  },
  {
   "cell_type": "code",
   "execution_count": null,
   "id": "908d6335",
   "metadata": {},
   "outputs": [],
   "source": [
    "# Calcular error relativo\n",
    "%autoreload 2\n",
    "from src import ODE_euler\n",
    "\n",
    "# Definir la función f(t, y) correspondiente a la ecuación diferencial\n",
    "def f(t, y):\n",
    "    return -5*y + 5*t**2 + 2*t\n",
    "\n",
    "# Definir la solución real de la ecuación diferencial\n",
    "def solucion_real(t):\n",
    "    return t**2 + (1/3) * np.exp(-5*t)\n",
    "\n",
    "# Definir una función para calcular el error relativo\n",
    "def calcular_error_relativo(ys_aprox, ys_real):\n",
    "    return np.mean([abs(y_aprox - y_real) / abs(y_real) for y_aprox, y_real in zip(ys_aprox, ys_real)])\n",
    "\n",
    "# Parámetros del problema\n",
    "a = 0  # tiempo inicial\n",
    "b = 1  # tiempo final\n",
    "y_t0 = 1/3  # condición inicial\n",
    "\n",
    "# Valores de N a evaluar\n",
    "valores_N = [10, 5, 20]\n",
    "\n",
    "# Calcular y graficar para cada valor de N\n",
    "for N in valores_N:\n",
    "    # Resolver la ecuación diferencial utilizando el método de Euler\n",
    "    ys, ts, h = ODE_euler(a=a, b=b, f=f, y_t0=y_t0, N=N)\n",
    "\n",
    "    # Calcular la solución real en los mismos puntos de malla\n",
    "    ys_real = [solucion_real(t) for t in ts]\n",
    "\n",
    "    # Calcular el error relativo\n",
    "    error_relativo = calcular_error_relativo(ys, ys_real)\n",
    "\n",
    "    # Imprimir el valor de h y el error relativo\n",
    "    print(f\"Para N = {N}:\")\n",
    "    print(f\"  El valor de h es {h}\")\n",
    "    print(f\"  El error relativo es {error_relativo}\")\n",
    "\n",
    "    # Graficar los resultados\n",
    "    plt.plot(ts, ys, label=f\"Aproximación Euler (N={N})\", marker='o')\n",
    "    plt.plot(ts, ys_real, label=\"Solución Real\", linestyle='--')\n",
    "\n",
    "plt.xlabel(\"t\")\n",
    "plt.ylabel(\"y\")\n",
    "plt.title(\"Comparación de la solución real y la aproximación de Euler\")\n",
    "plt.legend()\n",
    "plt.grid(True)\n",
    "plt.show()"
   ]
  }
 ],
 "metadata": {
  "kernelspec": {
   "display_name": "clean_tf_env",
   "language": "python",
   "name": "python3"
  },
  "language_info": {
   "codemirror_mode": {
    "name": "ipython",
    "version": 3
   },
   "file_extension": ".py",
   "mimetype": "text/x-python",
   "name": "python",
   "nbconvert_exporter": "python",
   "pygments_lexer": "ipython3",
   "version": "3.11.13"
  }
 },
 "nbformat": 4,
 "nbformat_minor": 5
}
